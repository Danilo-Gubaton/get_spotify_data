{
 "cells": [
  {
   "cell_type": "code",
   "execution_count": 2,
   "metadata": {
    "ExecuteTime": {
     "end_time": "2020-09-23T16:02:37.599922Z",
     "start_time": "2020-09-23T16:02:37.583931Z"
    }
   },
   "outputs": [],
   "source": [
    "import os\n",
    "\n",
    "import numpy as np\n",
    "import pandas as pd"
   ]
  },
  {
   "cell_type": "markdown",
   "metadata": {
    "ExecuteTime": {
     "end_time": "2020-09-23T16:45:46.090273Z",
     "start_time": "2020-09-23T16:45:46.072286Z"
    }
   },
   "source": [
    "## Consolidate daily charts data to monthly files"
   ]
  },
  {
   "cell_type": "code",
   "execution_count": 30,
   "metadata": {
    "ExecuteTime": {
     "end_time": "2020-09-23T16:51:03.930298Z",
     "start_time": "2020-09-23T16:51:03.896317Z"
    }
   },
   "outputs": [],
   "source": [
    "months_start = pd.date_range(start='2018-01-01', end='2020-09-25', freq='MS')\n",
    "months_end = pd.date_range(start='2018-01-01', end='2020-09-30', freq='M')"
   ]
  },
  {
   "cell_type": "code",
   "execution_count": 31,
   "metadata": {
    "ExecuteTime": {
     "end_time": "2020-09-23T16:51:07.569016Z",
     "start_time": "2020-09-23T16:51:07.555024Z"
    }
   },
   "outputs": [
    {
     "data": {
      "text/plain": [
       "DatetimeIndex(['2018-01-31', '2018-02-28', '2018-03-31', '2018-04-30',\n",
       "               '2018-05-31', '2018-06-30', '2018-07-31', '2018-08-31',\n",
       "               '2018-09-30', '2018-10-31', '2018-11-30', '2018-12-31',\n",
       "               '2019-01-31', '2019-02-28', '2019-03-31', '2019-04-30',\n",
       "               '2019-05-31', '2019-06-30', '2019-07-31', '2019-08-31',\n",
       "               '2019-09-30', '2019-10-31', '2019-11-30', '2019-12-31',\n",
       "               '2020-01-31', '2020-02-29', '2020-03-31', '2020-04-30',\n",
       "               '2020-05-31', '2020-06-30', '2020-07-31', '2020-08-31',\n",
       "               '2020-09-30'],\n",
       "              dtype='datetime64[ns]', freq='M')"
      ]
     },
     "execution_count": 31,
     "metadata": {},
     "output_type": "execute_result"
    }
   ],
   "source": [
    "months_end"
   ]
  },
  {
   "cell_type": "code",
   "execution_count": 40,
   "metadata": {
    "ExecuteTime": {
     "end_time": "2020-09-23T17:06:22.536237Z",
     "start_time": "2020-09-23T17:06:09.506154Z"
    }
   },
   "outputs": [
    {
     "name": "stdout",
     "output_type": "stream",
     "text": [
      "Processing Jan 2018...\n",
      "Processing Feb 2018...\n",
      "Processing Mar 2018...\n",
      "Processing Apr 2018...\n",
      "Processing May 2018...\n",
      "Processing Jun 2018...\n",
      "Processing Jul 2018...\n",
      "Processing Aug 2018...\n",
      "Processing Sep 2018...\n",
      "Processing Oct 2018...\n",
      "Processing Nov 2018...\n",
      "Processing Dec 2018...\n",
      "Processing Jan 2019...\n",
      "Processing Feb 2019...\n",
      "Processing Mar 2019...\n",
      "Processing Apr 2019...\n",
      "Processing May 2019...\n",
      "Processing Jun 2019...\n",
      "Processing Jul 2019...\n",
      "Processing Aug 2019...\n",
      "Processing Sep 2019...\n",
      "Processing Oct 2019...\n",
      "Processing Nov 2019...\n",
      "Processing Dec 2019...\n",
      "Processing Jan 2020...\n",
      "Processing Feb 2020...\n",
      "Processing Mar 2020...\n",
      "Processing Apr 2020...\n",
      "Processing May 2020...\n",
      "Processing Jun 2020...\n",
      "Processing Jul 2020...\n",
      "Processing Aug 2020...\n",
      "Processing Sep 2020...\n",
      "\tChart not available for date 2020-09-16...\n",
      "\tChart not available for date 2020-09-17...\n",
      "\tChart not available for date 2020-09-18...\n",
      "\tChart not available for date 2020-09-19...\n",
      "\tChart not available for date 2020-09-20...\n",
      "\tChart not available for date 2020-09-21...\n",
      "\tChart not available for date 2020-09-22...\n",
      "\tChart not available for date 2020-09-23...\n",
      "\tChart not available for date 2020-09-24...\n",
      "\tChart not available for date 2020-09-25...\n",
      "\tChart not available for date 2020-09-26...\n",
      "\tChart not available for date 2020-09-27...\n",
      "\tChart not available for date 2020-09-28...\n",
      "\tChart not available for date 2020-09-29...\n",
      "\tChart not available for date 2020-09-30...\n"
     ]
    }
   ],
   "source": [
    "for ms,me in zip(months_start, months_end):\n",
    "    print(\"Processing %s...\" % ms.strftime(\"%b %Y\"))\n",
    "    \n",
    "    #generate month dates\n",
    "    month_dates = pd.date_range(start = ms,end = me , freq='D')\n",
    "    #initialize DataFrame list\n",
    "    df_list = []\n",
    "    #open and clean chart data for all dates in month dates\n",
    "    for date in month_dates:\n",
    "        try:\n",
    "            df = pd.read_csv(\"data/daily_charts_raw/ph-\"+date.strftime(\"%Y-%m-%d\")+\".csv\")\n",
    "            df['track_id'] = df['URL'].apply(lambda x: x.split('/')[4])\n",
    "            df.columns=[col.lower().replace(' ','_') for col in df.columns]\n",
    "            df = df[['date','position','track_id','track_name','artist','streams']]\n",
    "            df_list.append(df)\n",
    "        except:\n",
    "            print(\"\\tChart not available for date %s...\" % date.strftime(\"%Y-%m-%d\"))\n",
    "        \n",
    "    month_df = pd.concat(df_list)\n",
    "    month_df.to_csv('data/monthly/'+'ph_'+ms.strftime(\"%Y%m\")+\".csv\", index=False, encoding='utf-8')\n",
    "\n",
    "#delete df list to clear up memory\n",
    "del df_list"
   ]
  },
  {
   "cell_type": "markdown",
   "metadata": {},
   "source": [
    "> Q: Can you revise the loop to concatenate daily chart data to *quarterly* chunks?"
   ]
  },
  {
   "cell_type": "markdown",
   "metadata": {},
   "source": [
    "## Consolidate monthly data to a single file"
   ]
  },
  {
   "cell_type": "code",
   "execution_count": 41,
   "metadata": {
    "ExecuteTime": {
     "end_time": "2020-09-23T17:07:08.095817Z",
     "start_time": "2020-09-23T17:06:59.681828Z"
    }
   },
   "outputs": [
    {
     "name": "stdout",
     "output_type": "stream",
     "text": [
      "Appending Jan 2018...\n",
      "Appending Feb 2018...\n",
      "Appending Mar 2018...\n",
      "Appending Apr 2018...\n",
      "Appending May 2018...\n",
      "Appending Jun 2018...\n",
      "Appending Jul 2018...\n",
      "Appending Aug 2018...\n",
      "Appending Sep 2018...\n",
      "Appending Oct 2018...\n",
      "Appending Nov 2018...\n",
      "Appending Dec 2018...\n",
      "Appending Jan 2019...\n",
      "Appending Feb 2019...\n",
      "Appending Mar 2019...\n",
      "Appending Apr 2019...\n",
      "Appending May 2019...\n",
      "Appending Jun 2019...\n",
      "Appending Jul 2019...\n",
      "Appending Aug 2019...\n",
      "Appending Sep 2019...\n",
      "Appending Oct 2019...\n",
      "Appending Nov 2019...\n",
      "Appending Dec 2019...\n",
      "Appending Jan 2020...\n",
      "Appending Feb 2020...\n",
      "Appending Mar 2020...\n",
      "Appending Apr 2020...\n",
      "Appending May 2020...\n",
      "Appending Jun 2020...\n",
      "Appending Jul 2020...\n",
      "Appending Aug 2020...\n",
      "Appending Sep 2020...\n"
     ]
    }
   ],
   "source": [
    "df_list = []\n",
    "for ms in months_start:\n",
    "    print(\"Appending %s...\" % ms.strftime(\"%b %Y\"))\n",
    "    df = pd.read_csv('data/monthly/'+'ph_'+ms.strftime(\"%Y%m\")+\".csv\")\n",
    "    df_list.append(df)\n",
    "        \n",
    "all_df = pd.concat(df_list)\n",
    "all_df.to_csv('data/spotify_daily_charts.csv', index=False, encoding='utf-8')\n",
    "\n",
    "#delete df list to clear up memory\n",
    "del df_list    "
   ]
  },
  {
   "cell_type": "code",
   "execution_count": 42,
   "metadata": {
    "ExecuteTime": {
     "end_time": "2020-09-23T17:07:08.158480Z",
     "start_time": "2020-09-23T17:07:08.102814Z"
    }
   },
   "outputs": [
    {
     "data": {
      "text/html": [
       "<div>\n",
       "<style scoped>\n",
       "    .dataframe tbody tr th:only-of-type {\n",
       "        vertical-align: middle;\n",
       "    }\n",
       "\n",
       "    .dataframe tbody tr th {\n",
       "        vertical-align: top;\n",
       "    }\n",
       "\n",
       "    .dataframe thead th {\n",
       "        text-align: right;\n",
       "    }\n",
       "</style>\n",
       "<table border=\"1\" class=\"dataframe\">\n",
       "  <thead>\n",
       "    <tr style=\"text-align: right;\">\n",
       "      <th></th>\n",
       "      <th>date</th>\n",
       "      <th>position</th>\n",
       "      <th>track_id</th>\n",
       "      <th>track_name</th>\n",
       "      <th>artist</th>\n",
       "      <th>streams</th>\n",
       "    </tr>\n",
       "  </thead>\n",
       "  <tbody>\n",
       "    <tr>\n",
       "      <th>0</th>\n",
       "      <td>2018-01-01</td>\n",
       "      <td>1</td>\n",
       "      <td>0ofbQMrRDsUaVKq2mGLEAb</td>\n",
       "      <td>Havana</td>\n",
       "      <td>Camila Cabello</td>\n",
       "      <td>155633</td>\n",
       "    </tr>\n",
       "    <tr>\n",
       "      <th>1</th>\n",
       "      <td>2018-01-01</td>\n",
       "      <td>2</td>\n",
       "      <td>0tgVpDi06FyKpA1z0VMD4v</td>\n",
       "      <td>Perfect</td>\n",
       "      <td>Ed Sheeran</td>\n",
       "      <td>134756</td>\n",
       "    </tr>\n",
       "    <tr>\n",
       "      <th>2</th>\n",
       "      <td>2018-01-01</td>\n",
       "      <td>3</td>\n",
       "      <td>3hBBKuWJfxlIlnd9QFoC8k</td>\n",
       "      <td>What Lovers Do (feat. SZA)</td>\n",
       "      <td>Maroon 5</td>\n",
       "      <td>130898</td>\n",
       "    </tr>\n",
       "    <tr>\n",
       "      <th>3</th>\n",
       "      <td>2018-01-01</td>\n",
       "      <td>4</td>\n",
       "      <td>1mXVgsBdtIVeCLJnSnmtdV</td>\n",
       "      <td>Too Good At Goodbyes</td>\n",
       "      <td>Sam Smith</td>\n",
       "      <td>130798</td>\n",
       "    </tr>\n",
       "    <tr>\n",
       "      <th>4</th>\n",
       "      <td>2018-01-01</td>\n",
       "      <td>5</td>\n",
       "      <td>2ekn2ttSfGqwhhate0LSR0</td>\n",
       "      <td>New Rules</td>\n",
       "      <td>Dua Lipa</td>\n",
       "      <td>125472</td>\n",
       "    </tr>\n",
       "  </tbody>\n",
       "</table>\n",
       "</div>"
      ],
      "text/plain": [
       "         date  position                track_id                  track_name  \\\n",
       "0  2018-01-01         1  0ofbQMrRDsUaVKq2mGLEAb                      Havana   \n",
       "1  2018-01-01         2  0tgVpDi06FyKpA1z0VMD4v                     Perfect   \n",
       "2  2018-01-01         3  3hBBKuWJfxlIlnd9QFoC8k  What Lovers Do (feat. SZA)   \n",
       "3  2018-01-01         4  1mXVgsBdtIVeCLJnSnmtdV        Too Good At Goodbyes   \n",
       "4  2018-01-01         5  2ekn2ttSfGqwhhate0LSR0                   New Rules   \n",
       "\n",
       "           artist  streams  \n",
       "0  Camila Cabello   155633  \n",
       "1      Ed Sheeran   134756  \n",
       "2        Maroon 5   130898  \n",
       "3       Sam Smith   130798  \n",
       "4        Dua Lipa   125472  "
      ]
     },
     "execution_count": 42,
     "metadata": {},
     "output_type": "execute_result"
    }
   ],
   "source": [
    "all_df.head()"
   ]
  },
  {
   "cell_type": "code",
   "execution_count": 45,
   "metadata": {
    "ExecuteTime": {
     "end_time": "2020-09-23T17:08:04.629593Z",
     "start_time": "2020-09-23T17:08:04.485674Z"
    }
   },
   "outputs": [
    {
     "data": {
      "text/plain": [
       "('2018-01-01', '2020-09-15')"
      ]
     },
     "execution_count": 45,
     "metadata": {},
     "output_type": "execute_result"
    }
   ],
   "source": [
    "all_df['date'].min(),all_df['date'].max()"
   ]
  },
  {
   "cell_type": "code",
   "execution_count": 44,
   "metadata": {
    "ExecuteTime": {
     "end_time": "2020-09-23T17:07:18.246600Z",
     "start_time": "2020-09-23T17:07:18.227611Z"
    }
   },
   "outputs": [
    {
     "data": {
      "text/plain": [
       "(197800, 197800)"
      ]
     },
     "execution_count": 44,
     "metadata": {},
     "output_type": "execute_result"
    }
   ],
   "source": [
    "#check if consolidated file has expected number of rows\n",
    "len(all_df), len(pd.date_range(start='2018-01-01', end='2020-09-15', freq='D'))*200"
   ]
  },
  {
   "cell_type": "markdown",
   "metadata": {},
   "source": [
    "### Resources\n",
    "\n",
    "- String Formatting https://strftime.org/"
   ]
  }
 ],
 "metadata": {
  "kernelspec": {
   "display_name": "Python 3",
   "language": "python",
   "name": "python3"
  },
  "language_info": {
   "codemirror_mode": {
    "name": "ipython",
    "version": 3
   },
   "file_extension": ".py",
   "mimetype": "text/x-python",
   "name": "python",
   "nbconvert_exporter": "python",
   "pygments_lexer": "ipython3",
   "version": "3.7.3"
  }
 },
 "nbformat": 4,
 "nbformat_minor": 2
}
